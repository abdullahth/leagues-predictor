{
 "cells": [
  {
   "cell_type": "code",
   "execution_count": 46,
   "metadata": {},
   "outputs": [
    {
     "data": {
      "text/plain": [
       "'\\nThe Algorithm to get one team result for One Season Only\\n\\n# Algorithm Starts Here\\nimport pandas as pd\\nimport numpy as np\\n\\ndataset = pd.read_csv(\"data-set.csv\")\\n\\nCOULMNS = [\"GW\", \"CLUB\", \"W\", \"D\", \"L\", \"GS\", \"GC\", \"FP\", \"CS\"]\\n\\nCLUBS = dataset[\"HomeTeam\"]\\nCLUBS = np.unique(CLUBS)\\n\\nSEASONS = np.unique(dataset[\"Season\"])\\nSEASONS\\n\\ns94 = dataset.loc[dataset[\"Season\"] == \"1998-99\"]\\ns94\\n\\nars = pd.concat([s94.loc[s94[\"HomeTeam\"] == \"Arsenal\"], s94.loc[s94[\"AwayTeam\"] == \"Arsenal\"]], ignore_index=True)\\nars\\n\\nRows = {}\\nfor i in ars.index:\\n    if len(Rows) == 0:\\n        if ars[\"FTHG\"][i] > ars[\"FTAG\"][i] and ars[\"FTAG\"][i]:\\n            Rows[f\"{i+1}\"] = [1, 0, 0, ars[\"FTHG\"][i], ars[\"FTAG\"][i], 1]\\n        elif ars[\"FTHG\"][i] == ars[\"FTAG\"][i] == 1:\\n            Rows[f\"{i+1}\"] = [0, 1, 0, ars[\"FTHG\"][i], ars[\"FTAG\"][i], 1]\\n        else:\\n            Rows[f\"{i+1}\"] = [0, 0, 1, ars[\"FTHG\"][i], ars[\"FTAG\"][i], 1]\\n    else:\\n        if ars[\"FTHG\"][i] > ars[\"FTAG\"][i] and ars[\"FTAG\"][i]:\\n            Rows[f\"{i+1}\"] = [Rows[str(i)][0]+1, Rows[str(i)][1], Rows[str(i)][2], Rows[str(i)][3]+ars[\"FTHG\"][i], Rows[str(i)][4]+ars[\"FTAG\"][i], Rows[str(i)][5]+1]\\n        elif ars[\"FTHG\"][i] == ars[\"FTAG\"][i] == 0:\\n            Rows[f\"{i+1}\"] = [Rows[str(i)][0], Rows[str(i)][1]+1, Rows[str(i)][2], Rows[str(i)][3]+ars[\"FTHG\"][i], Rows[str(i)][4]+ars[\"FTAG\"][i], Rows[str(i)][5]+1]\\n        else:\\n            Rows[f\"{i+1}\"] = [Rows[str(i)][0], Rows[str(i)][1], Rows[str(i)][2]+1, Rows[str(i)][3]+ars[\"FTHG\"][i], Rows[str(i)][4]+ars[\"FTAG\"][i], Rows[str(i)][5]]\\n            \\n\\n# End Of Algorithm\\n'"
      ]
     },
     "execution_count": 46,
     "metadata": {},
     "output_type": "execute_result"
    }
   ],
   "source": [
    "'''\n",
    "Config the Dataset file to be suitable to the model to train and test.\n",
    "The Data will be taken from its current format (The Pure Format of it which is uploaded and the link will be attached in README.md)\n",
    "to a table format with columns will be represented in the script itself\n",
    "'''\n",
    "\n",
    "'''\n",
    "The Algorithm to get one team result for One Season Only\n",
    "\n",
    "# Algorithm Starts Here\n",
    "import pandas as pd\n",
    "import numpy as np\n",
    "\n",
    "dataset = pd.read_csv(\"data-set.csv\")\n",
    "\n",
    "COULMNS = [\"GW\", \"CLUB\", \"W\", \"D\", \"L\", \"GS\", \"GC\", \"FP\", \"CS\"]\n",
    "\n",
    "CLUBS = dataset[\"HomeTeam\"]\n",
    "CLUBS = np.unique(CLUBS)\n",
    "\n",
    "SEASONS = np.unique(dataset[\"Season\"])\n",
    "SEASONS\n",
    "\n",
    "s94 = dataset.loc[dataset[\"Season\"] == \"1998-99\"]\n",
    "s94\n",
    "\n",
    "ars = pd.concat([s94.loc[s94[\"HomeTeam\"] == \"Arsenal\"], s94.loc[s94[\"AwayTeam\"] == \"Arsenal\"]], ignore_index=True)\n",
    "ars\n",
    "\n",
    "Rows = {}\n",
    "for i in ars.index:\n",
    "    if len(Rows) == 0:\n",
    "        if ars[\"FTHG\"][i] > ars[\"FTAG\"][i] and ars[\"FTAG\"][i]:\n",
    "            Rows[f\"{i+1}\"] = [1, 0, 0, ars[\"FTHG\"][i], ars[\"FTAG\"][i], 1]\n",
    "        elif ars[\"FTHG\"][i] == ars[\"FTAG\"][i] == 1:\n",
    "            Rows[f\"{i+1}\"] = [0, 1, 0, ars[\"FTHG\"][i], ars[\"FTAG\"][i], 1]\n",
    "        else:\n",
    "            Rows[f\"{i+1}\"] = [0, 0, 1, ars[\"FTHG\"][i], ars[\"FTAG\"][i], 1]\n",
    "    else:\n",
    "        if ars[\"FTHG\"][i] > ars[\"FTAG\"][i] and ars[\"FTAG\"][i]:\n",
    "            Rows[f\"{i+1}\"] = [Rows[str(i)][0]+1, Rows[str(i)][1], Rows[str(i)][2], Rows[str(i)][3]+ars[\"FTHG\"][i], Rows[str(i)][4]+ars[\"FTAG\"][i], Rows[str(i)][5]+1]\n",
    "        elif ars[\"FTHG\"][i] == ars[\"FTAG\"][i] == 0:\n",
    "            Rows[f\"{i+1}\"] = [Rows[str(i)][0], Rows[str(i)][1]+1, Rows[str(i)][2], Rows[str(i)][3]+ars[\"FTHG\"][i], Rows[str(i)][4]+ars[\"FTAG\"][i], Rows[str(i)][5]+1]\n",
    "        else:\n",
    "            Rows[f\"{i+1}\"] = [Rows[str(i)][0], Rows[str(i)][1], Rows[str(i)][2]+1, Rows[str(i)][3]+ars[\"FTHG\"][i], Rows[str(i)][4]+ars[\"FTAG\"][i], Rows[str(i)][5]]\n",
    "            \n",
    "\n",
    "# End Of Algorithm\n",
    "'''"
   ]
  },
  {
   "cell_type": "code",
   "execution_count": null,
   "metadata": {},
   "outputs": [],
   "source": []
  }
 ],
 "metadata": {
  "kernelspec": {
   "display_name": "Python 3.7.6 64-bit ('base': conda)",
   "language": "python",
   "name": "python37664bitbaseconda739a8309a6004043b195120ff2f63e31"
  },
  "language_info": {
   "codemirror_mode": {
    "name": "ipython",
    "version": 3
   },
   "file_extension": ".py",
   "mimetype": "text/x-python",
   "name": "python",
   "nbconvert_exporter": "python",
   "pygments_lexer": "ipython3",
   "version": "3.7.6"
  }
 },
 "nbformat": 4,
 "nbformat_minor": 4
}
